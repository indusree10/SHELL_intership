{
 "cells": [
  {
   "cell_type": "code",
   "execution_count": 2,
   "id": "274356d5-667f-422a-bcaf-e8a7cf5ae258",
   "metadata": {},
   "outputs": [
    {
     "name": "stdout",
     "output_type": "stream",
     "text": [
      "Predicted Values: [1 0 2 1 1 0 1 2 1 1 2 0 0 0 0 1 2 1 1 2 0 2 0 2 2 2 2 2 0 0]\n",
      "Actual Values:    [1 0 2 1 1 0 1 2 1 1 2 0 0 0 0 1 2 1 1 2 0 2 0 2 2 2 2 2 0 0]\n",
      "Model Accuracy: 100.00%\n"
     ]
    }
   ],
   "source": [
    "# Step 1: Import libraries\n",
    "import pandas as pd\n",
    "from sklearn.datasets import load_iris\n",
    "from sklearn.model_selection import train_test_split\n",
    "from sklearn.linear_model import LogisticRegression\n",
    "from sklearn.metrics import accuracy_score\n",
    "\n",
    "# Step 2: Load dataset\n",
    "iris = load_iris()\n",
    "X = pd.DataFrame(iris.data, columns=iris.feature_names)  # features\n",
    "y = pd.Series(iris.target)  # target labels\n",
    "\n",
    "# Step 3: Split the data into train and test\n",
    "X_train, X_test, y_train, y_test = train_test_split(X, y, test_size=0.2, random_state=42)\n",
    "\n",
    "# --------- Step 4: Choose ML model ---------\n",
    "# Logistic Regression is chosen for classification\n",
    "model = LogisticRegression(max_iter=200)\n",
    "\n",
    "# --------- Step 5: Implement ML model ---------\n",
    "model.fit(X_train, y_train)  # Train the model\n",
    "\n",
    "# --------- Step 6: Evaluate ML model ---------\n",
    "y_pred = model.predict(X_test)  # Predict on test data\n",
    "accuracy = accuracy_score(y_test, y_pred)\n",
    "\n",
    "print(\"Predicted Values:\", y_pred)\n",
    "print(\"Actual Values:   \", y_test.values)\n",
    "print(f\"Model Accuracy: {accuracy * 100:.2f}%\")\n"
   ]
  },
  {
   "cell_type": "code",
   "execution_count": null,
   "id": "d7dd3cc8-2684-43c7-8c0c-8365654f9c7f",
   "metadata": {},
   "outputs": [],
   "source": []
  }
 ],
 "metadata": {
  "kernelspec": {
   "display_name": "Python 3 (ipykernel)",
   "language": "python",
   "name": "python3"
  },
  "language_info": {
   "codemirror_mode": {
    "name": "ipython",
    "version": 3
   },
   "file_extension": ".py",
   "mimetype": "text/x-python",
   "name": "python",
   "nbconvert_exporter": "python",
   "pygments_lexer": "ipython3",
   "version": "3.12.7"
  }
 },
 "nbformat": 4,
 "nbformat_minor": 5
}
